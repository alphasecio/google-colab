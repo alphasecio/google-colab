{
  "nbformat": 4,
  "nbformat_minor": 0,
  "metadata": {
    "colab": {
      "provenance": [],
      "collapsed_sections": [
        "rWRH95wEanIZ",
        "jhQ9sDO1a7Iw",
        "rWkIY3R0bFJt",
        "2DKjVvVdbQ7P",
        "1XkNhk9abV29"
      ]
    },
    "kernelspec": {
      "name": "python3",
      "display_name": "Python 3"
    },
    "language_info": {
      "name": "python"
    }
  },
  "cells": [
    {
      "cell_type": "markdown",
      "source": [
        "# **Run Streamlit App from Google Colab Notebook**\n",
        "A simple Streamlit web app for retrieving a stock quote using YFinance API. "
      ],
      "metadata": {
        "id": "A6hQKN0TaSNW"
      }
    },
    {
      "cell_type": "markdown",
      "source": [
        "## Install Streamlit\n",
        "\n"
      ],
      "metadata": {
        "id": "rWRH95wEanIZ"
      }
    },
    {
      "cell_type": "code",
      "source": [
        "!pip install -q streamlit"
      ],
      "metadata": {
        "id": "EYKlu6eFXbiN"
      },
      "execution_count": null,
      "outputs": []
    },
    {
      "cell_type": "markdown",
      "source": [
        "## Create a Streamlit app and save to a local file"
      ],
      "metadata": {
        "id": "jhQ9sDO1a7Iw"
      }
    },
    {
      "cell_type": "code",
      "execution_count": null,
      "metadata": {
        "id": "TAYp1fx7XLbc"
      },
      "outputs": [],
      "source": [
        "%%writefile app.py\n",
        "import streamlit as st\n",
        "import yfinance as yf\n",
        "\n",
        "st.title(\"Stocks App\")\n",
        "symbol = st.text_input(\"Enter a stock symbol\", \"AAPL\")\n",
        "if st.button(\"Get Quote\"):\n",
        "    st.json(yf.Ticker(symbol).info)"
      ]
    },
    {
      "cell_type": "markdown",
      "source": [
        "## Install localtunnel to serve the Streamlit app"
      ],
      "metadata": {
        "id": "rWkIY3R0bFJt"
      }
    },
    {
      "cell_type": "code",
      "source": [
        "!npm install localtunnel"
      ],
      "metadata": {
        "id": "GkGIlKeOZn01"
      },
      "execution_count": null,
      "outputs": []
    },
    {
      "cell_type": "markdown",
      "source": [
        "## Run the Streamlit app in the background"
      ],
      "metadata": {
        "id": "2DKjVvVdbQ7P"
      }
    },
    {
      "cell_type": "code",
      "source": [
        "!streamlit run app.py &>/content/logs.txt &"
      ],
      "metadata": {
        "id": "YeNLTTJSY5NM"
      },
      "execution_count": null,
      "outputs": []
    },
    {
      "cell_type": "markdown",
      "source": [
        "## Expose the Streamlit app on port 8501"
      ],
      "metadata": {
        "id": "1XkNhk9abV29"
      }
    },
    {
      "cell_type": "code",
      "source": [
        "!npx localtunnel --port 8501"
      ],
      "metadata": {
        "id": "_DDegT-jZ2Q5"
      },
      "execution_count": null,
      "outputs": []
    }
  ]
}
